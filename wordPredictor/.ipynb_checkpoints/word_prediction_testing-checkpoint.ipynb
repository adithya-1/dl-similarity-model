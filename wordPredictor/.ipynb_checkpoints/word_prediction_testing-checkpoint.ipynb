{
 "cells": [
  {
   "cell_type": "code",
   "execution_count": 1,
   "metadata": {},
   "outputs": [],
   "source": [
    "from keras.models import load_model\n",
    "from keras.preprocessing.sequence import pad_sequences\n",
    "from tensorflow.keras.preprocessing.text import Tokenizer\n",
    "from doc3 import training_doc3\n",
    "import re\n",
    "from nltk.tokenize import word_tokenize\n",
    "import copy"
   ]
  },
  {
   "cell_type": "code",
   "execution_count": 40,
   "metadata": {},
   "outputs": [],
   "source": [
    "# model = load_model(\"mymodel.h5\")"
   ]
  },
  {
   "cell_type": "code",
   "execution_count": 45,
   "metadata": {},
   "outputs": [
    {
     "name": "stdout",
     "output_type": "stream",
     "text": [
      "210\n",
      "{'s': 1, 'nanna': 2, 'next': 3, 'turn': 4, 'yenu': 5, 'e': 6, 'what': 7, 'is': 8, 'my': 9, 'saradi': 10, 'mundina': 11, 'how': 12, 'the': 13, 'datthane': 14, 'ahead': 15, 'munde': 16, 'traffic': 17, 'hegidhe': 18, 'are': 19, 'nearby': 20, 'anila': 21, 'stations': 22, 'gas': 23, 'kendragalu': 24, 'hathira': 25, 'yavdu': 26, 'there': 27, 'any': 28, 'kredaa': 29, 'mydana': 30, 'near': 31, 'me': 32, 'yavude': 33, 'sports': 34, 'ground': 35, 'idhya': 36, 'grounds': 37, 'some': 38, 'good': 39, 'stalagalu': 40, 'to': 41, 'visit': 42, 'uttama': 43, 'hathiradha': 44, 'places': 45, 'bheti': 46, 'needalu': 47, 'yavuvu': 48, 'park': 49, 'yaavaaga': 50, 'thereyuthadhe': 51, 'when': 52, 'does': 53, 'nearest': 54, 'udhyaana': 55, 'open': 56, 'udhyaanavu': 57, 'aagothe': 58, 'iro': 59, 'plumbing': 60, 'service': 61, 'kolaayi': 62, 'job': 63, 'openings': 64, 'udhyogavakaasha': 65, 'kelasa': 66}\n",
      "sequences  =  [[1, 30, 31, 45], [30, 31, 45, 54], [31, 45, 54, 2], [1, 6, 10, 19], [6, 10, 19, 31], [10, 19, 31, 39], [19, 31, 39, 2], [1, 6, 10, 19], [6, 10, 19, 46], [10, 19, 46, 39], [19, 46, 39, 2], [1, 40, 10, 3], [40, 10, 3, 32], [10, 3, 32, 55], [3, 32, 55, 2], [1, 41, 56, 57], [41, 56, 57, 2], [1, 40, 10, 3], [40, 10, 3, 32], [10, 3, 32, 41], [3, 32, 41, 2], [1, 6, 4, 3], [6, 4, 3, 7], [4, 3, 7, 15], [3, 7, 15, 20], [7, 15, 20, 2], [1, 6, 4, 3], [6, 4, 3, 7], [4, 3, 7, 16], [3, 7, 16, 27], [7, 16, 27, 2], [1, 6, 4, 3], [6, 4, 3, 7], [4, 3, 7, 15], [3, 7, 15, 27], [7, 15, 27, 2], [1, 8, 16, 20], [8, 16, 20, 33], [16, 20, 33, 2], [1, 8, 16, 27], [8, 16, 27, 33], [16, 27, 33, 2], [1, 8, 15, 20], [8, 15, 20, 33], [15, 20, 33, 2], [1, 4, 17, 11], [4, 17, 11, 21], [17, 11, 21, 22], [11, 21, 22, 9], [21, 22, 9, 13], [22, 9, 13, 2], [1, 30, 8, 42], [30, 8, 42, 23], [8, 42, 23, 47], [42, 23, 47, 58], [23, 47, 58, 2], [1, 4, 17, 11], [4, 17, 11, 23], [17, 11, 23, 22], [11, 23, 22, 9], [23, 22, 9, 13], [22, 9, 13, 2], [1, 4, 17, 11], [4, 17, 11, 21], [17, 11, 21, 43], [11, 21, 43, 9], [21, 43, 9, 13], [43, 9, 13, 2], [1, 6, 4, 12], [6, 4, 12, 24], [4, 12, 24, 7], [12, 24, 7, 25], [24, 7, 25, 18], [7, 25, 18, 34], [25, 18, 34, 2], [1, 6, 4, 12], [6, 4, 12, 26], [4, 12, 26, 5], [12, 26, 5, 28], [26, 5, 28, 18], [5, 28, 18, 34], [28, 18, 34, 2], [1, 6, 4, 12], [6, 4, 12, 26], [4, 12, 26, 5], [12, 26, 5, 25], [26, 5, 25, 18], [5, 25, 18, 34], [25, 18, 34, 2], [1, 59, 48, 5], [59, 48, 5, 24], [48, 5, 24, 28], [5, 24, 28, 60], [24, 28, 60, 2], [1, 5, 49, 29], [5, 49, 29, 61], [49, 29, 61, 2], [1, 62, 50, 3], [62, 50, 3, 44], [50, 3, 44, 51], [3, 44, 51, 37], [44, 51, 37, 2], [1, 5, 52, 29], [5, 52, 29, 37], [52, 29, 37, 63], [29, 37, 63, 2], [1, 30, 8, 14], [30, 8, 14, 35], [8, 14, 35, 36], [14, 35, 36, 2], [1, 8, 14, 53], [8, 14, 53, 36], [14, 53, 36, 2], [1, 8, 14, 35], [8, 14, 35, 36], [14, 35, 36, 2], [1, 5, 64, 38], [5, 64, 38, 2], [1, 65, 9, 13], [65, 9, 13, 2], [1, 66, 38, 9], [66, 38, 9, 13], [38, 9, 13, 2]]\n"
     ]
    }
   ],
   "source": [
    "cleaned = re.sub(r'\\W+', ' ', training_doc3).lower()\n",
    "tokens = word_tokenize(cleaned)\n",
    "print(len(tokens))\n",
    "train_len = 4\n",
    "text_sequences = []\n",
    "for i in range(train_len,len(tokens)+1):\n",
    "  seq = tokens[i-train_len:i]\n",
    "  text_sequences.append(seq)\n",
    "#print(text_sequences)\n",
    "text_sequence_1 = []\n",
    "for i in text_sequences:\n",
    "    if \"s\" in i:\n",
    "        if i[0] != \"s\":\n",
    "            continue\n",
    "    if \"e\" in i:\n",
    "        if i[3] != \"e\":\n",
    "            continue\n",
    "    \n",
    "    text_sequence_1.append(i)\n",
    "#print(text_sequence_1)\n",
    "text_sequences = copy.deepcopy(text_sequence_1)\n",
    "sequences = {}\n",
    "count = 1\n",
    "for i in range(len(tokens)):\n",
    "  if tokens[i] not in sequences:\n",
    "    sequences[tokens[i]] = count\n",
    "    count += 1\n",
    "print(sequences)\n",
    "tokenizer = Tokenizer()\n",
    "tokenizer.fit_on_texts(text_sequences)\n",
    "sequences = tokenizer.texts_to_sequences(text_sequences)\n",
    "#print(len(text_sequences))\n",
    "print(\"sequences  = \" ,sequences)\n"
   ]
  },
  {
   "cell_type": "code",
   "execution_count": 52,
   "metadata": {},
   "outputs": [
    {
     "name": "stdout",
     "output_type": "stream",
     "text": [
      "nanna next turn\n",
      "[30, 31, 45] [[30 31 45]]\n",
      "Next word suggestion: yenu\n",
      "Next word suggestion: idhya\n",
      "Next word suggestion: ahead\n",
      "Next word suggestion: munde\n",
      "Next word suggestion: open\n",
      "Next word suggestion: plumbing\n",
      "Next word suggestion: saradi\n",
      "Next word suggestion: udhyaana\n",
      "Next word suggestion: grounds\n",
      "Next word suggestion: mydana\n"
     ]
    }
   ],
   "source": [
    "sentence = \"s nanna next turn\"\n",
    "from keras.preprocessing.sequence import pad_sequences\n",
    "input_text = input().strip().lower()\n",
    "encoded_text = new_tokenizer.texts_to_sequences([input_text])[0]\n",
    "pad_encoded = pad_sequences([encoded_text], maxlen=3, truncating='pre')\n",
    "print(encoded_text, pad_encoded)\n",
    "for i in (model.predict(pad_encoded)[0]).argsort()[-10:][::-1]:\n",
    "  pred_word = tokenizer.index_word[i]\n",
    "  print(\"Next word suggestion:\",pred_word)"
   ]
  },
  {
   "cell_type": "code",
   "execution_count": 47,
   "metadata": {},
   "outputs": [
    {
     "name": "stdout",
     "output_type": "stream",
     "text": [
      "<keras_preprocessing.text.Tokenizer object at 0x00000234ECB5D4C8>\n"
     ]
    }
   ],
   "source": [
    "import pickle\n",
    " \n",
    "# Step 2\n",
    "with open('config.dictionary', 'rb') as config_dictionary_file:\n",
    " \n",
    "    # Step 3\n",
    "    new_tokenizer = pickle.load(config_dictionary_file)\n",
    " \n",
    "    # After config_dictionary is read from file\n",
    "    print(new_tokenizer)"
   ]
  },
  {
   "cell_type": "code",
   "execution_count": 50,
   "metadata": {},
   "outputs": [
    {
     "name": "stdout",
     "output_type": "stream",
     "text": [
      "4\n"
     ]
    }
   ],
   "source": [
    "print(seq_len)"
   ]
  },
  {
   "cell_type": "code",
   "execution_count": null,
   "metadata": {},
   "outputs": [],
   "source": []
  }
 ],
 "metadata": {
  "kernelspec": {
   "display_name": "Python 3",
   "language": "python",
   "name": "python3"
  },
  "language_info": {
   "codemirror_mode": {
    "name": "ipython",
    "version": 3
   },
   "file_extension": ".py",
   "mimetype": "text/x-python",
   "name": "python",
   "nbconvert_exporter": "python",
   "pygments_lexer": "ipython3",
   "version": "3.7.6"
  }
 },
 "nbformat": 4,
 "nbformat_minor": 4
}
