{
 "cells": [
  {
   "cell_type": "code",
   "execution_count": 1,
   "metadata": {},
   "outputs": [],
   "source": [
    "from keras.preprocessing.text import Tokenizer\n",
    "import nltk\n",
    "from nltk.tokenize import word_tokenize\n",
    "import numpy as np\n",
    "import re\n",
    "from keras.utils import to_categorical\n",
    "from doc3 import training_doc3\n",
    "import copy"
   ]
  },
  {
   "cell_type": "code",
   "execution_count": 2,
   "metadata": {},
   "outputs": [
    {
     "name": "stdout",
     "output_type": "stream",
     "text": [
      "210\n"
     ]
    }
   ],
   "source": [
    "cleaned = re.sub(r'\\W+', ' ', training_doc3).lower()\n",
    "tokens = word_tokenize(cleaned)\n",
    "print(len(tokens))"
   ]
  },
  {
   "cell_type": "code",
   "execution_count": 3,
   "metadata": {},
   "outputs": [
    {
     "name": "stdout",
     "output_type": "stream",
     "text": [
      "[['s', 'nanna', 'next', 'turn'], ['nanna', 'next', 'turn', 'yenu'], ['next', 'turn', 'yenu', 'e'], ['turn', 'yenu', 'e', 's'], ['yenu', 'e', 's', 'what'], ['e', 's', 'what', 'is'], ['s', 'what', 'is', 'my'], ['what', 'is', 'my', 'next'], ['is', 'my', 'next', 'saradi'], ['my', 'next', 'saradi', 'e'], ['next', 'saradi', 'e', 's'], ['saradi', 'e', 's', 'what'], ['e', 's', 'what', 'is'], ['s', 'what', 'is', 'my'], ['what', 'is', 'my', 'mundina'], ['is', 'my', 'mundina', 'saradi'], ['my', 'mundina', 'saradi', 'e'], ['mundina', 'saradi', 'e', 's'], ['saradi', 'e', 's', 'how'], ['e', 's', 'how', 'is'], ['s', 'how', 'is', 'the'], ['how', 'is', 'the', 'datthane'], ['is', 'the', 'datthane', 'ahead'], ['the', 'datthane', 'ahead', 'e'], ['datthane', 'ahead', 'e', 's'], ['ahead', 'e', 's', 'munde'], ['e', 's', 'munde', 'traffic'], ['s', 'munde', 'traffic', 'hegidhe'], ['munde', 'traffic', 'hegidhe', 'e'], ['traffic', 'hegidhe', 'e', 's'], ['hegidhe', 'e', 's', 'how'], ['e', 's', 'how', 'is'], ['s', 'how', 'is', 'the'], ['how', 'is', 'the', 'datthane'], ['is', 'the', 'datthane', 'munde'], ['the', 'datthane', 'munde', 'e'], ['datthane', 'munde', 'e', 's'], ['munde', 'e', 's', 'what'], ['e', 's', 'what', 'are'], ['s', 'what', 'are', 'the'], ['what', 'are', 'the', 'nearby'], ['are', 'the', 'nearby', 'anila'], ['the', 'nearby', 'anila', 'stations'], ['nearby', 'anila', 'stations', 'e'], ['anila', 'stations', 'e', 's'], ['stations', 'e', 's', 'what'], ['e', 's', 'what', 'are'], ['s', 'what', 'are', 'the'], ['what', 'are', 'the', 'nearby'], ['are', 'the', 'nearby', 'gas'], ['the', 'nearby', 'gas', 'kendragalu'], ['nearby', 'gas', 'kendragalu', 'e'], ['gas', 'kendragalu', 'e', 's'], ['kendragalu', 'e', 's', 'what'], ['e', 's', 'what', 'are'], ['s', 'what', 'are', 'the'], ['what', 'are', 'the', 'nearby'], ['are', 'the', 'nearby', 'anila'], ['the', 'nearby', 'anila', 'kendragalu'], ['nearby', 'anila', 'kendragalu', 'e'], ['anila', 'kendragalu', 'e', 's'], ['kendragalu', 'e', 's', 'hathira'], ['e', 's', 'hathira', 'gas'], ['s', 'hathira', 'gas', 'stations'], ['hathira', 'gas', 'stations', 'yavdu'], ['gas', 'stations', 'yavdu', 'e'], ['stations', 'yavdu', 'e', 's'], ['yavdu', 'e', 's', 'hathira'], ['e', 's', 'hathira', 'gas'], ['s', 'hathira', 'gas', 'kendragalu'], ['hathira', 'gas', 'kendragalu', 'yavdu'], ['gas', 'kendragalu', 'yavdu', 'e'], ['kendragalu', 'yavdu', 'e', 's'], ['yavdu', 'e', 's', 'hathira'], ['e', 's', 'hathira', 'anila'], ['s', 'hathira', 'anila', 'stations'], ['hathira', 'anila', 'stations', 'yavdu'], ['anila', 'stations', 'yavdu', 'e'], ['stations', 'yavdu', 'e', 's'], ['yavdu', 'e', 's', 'are'], ['e', 's', 'are', 'there'], ['s', 'are', 'there', 'any'], ['are', 'there', 'any', 'kredaa'], ['there', 'any', 'kredaa', 'mydana'], ['any', 'kredaa', 'mydana', 'near'], ['kredaa', 'mydana', 'near', 'me'], ['mydana', 'near', 'me', 'e'], ['near', 'me', 'e', 's'], ['me', 'e', 's', 'nanna'], ['e', 's', 'nanna', 'hathira'], ['s', 'nanna', 'hathira', 'yavude'], ['nanna', 'hathira', 'yavude', 'sports'], ['hathira', 'yavude', 'sports', 'ground'], ['yavude', 'sports', 'ground', 'idhya'], ['sports', 'ground', 'idhya', 'e'], ['ground', 'idhya', 'e', 's'], ['idhya', 'e', 's', 'are'], ['e', 's', 'are', 'there'], ['s', 'are', 'there', 'any'], ['are', 'there', 'any', 'sports'], ['there', 'any', 'sports', 'mydana'], ['any', 'sports', 'mydana', 'near'], ['sports', 'mydana', 'near', 'me'], ['mydana', 'near', 'me', 'e'], ['near', 'me', 'e', 's'], ['me', 'e', 's', 'are'], ['e', 's', 'are', 'there'], ['s', 'are', 'there', 'any'], ['are', 'there', 'any', 'kredaa'], ['there', 'any', 'kredaa', 'grounds'], ['any', 'kredaa', 'grounds', 'near'], ['kredaa', 'grounds', 'near', 'me'], ['grounds', 'near', 'me', 'e'], ['near', 'me', 'e', 's'], ['me', 'e', 's', 'what'], ['e', 's', 'what', 'are'], ['s', 'what', 'are', 'some'], ['what', 'are', 'some', 'good'], ['are', 'some', 'good', 'nearby'], ['some', 'good', 'nearby', 'stalagalu'], ['good', 'nearby', 'stalagalu', 'to'], ['nearby', 'stalagalu', 'to', 'visit'], ['stalagalu', 'to', 'visit', 'e'], ['to', 'visit', 'e', 's'], ['visit', 'e', 's', 'what'], ['e', 's', 'what', 'are'], ['s', 'what', 'are', 'some'], ['what', 'are', 'some', 'uttama'], ['are', 'some', 'uttama', 'hathiradha'], ['some', 'uttama', 'hathiradha', 'places'], ['uttama', 'hathiradha', 'places', 'to'], ['hathiradha', 'places', 'to', 'visit'], ['places', 'to', 'visit', 'e'], ['to', 'visit', 'e', 's'], ['visit', 'e', 's', 'what'], ['e', 's', 'what', 'are'], ['s', 'what', 'are', 'some'], ['what', 'are', 'some', 'uttama'], ['are', 'some', 'uttama', 'hathiradha'], ['some', 'uttama', 'hathiradha', 'stalagalu'], ['uttama', 'hathiradha', 'stalagalu', 'to'], ['hathiradha', 'stalagalu', 'to', 'visit'], ['stalagalu', 'to', 'visit', 'e'], ['to', 'visit', 'e', 's'], ['visit', 'e', 's', 'bheti'], ['e', 's', 'bheti', 'needalu'], ['s', 'bheti', 'needalu', 'hathiradha'], ['bheti', 'needalu', 'hathiradha', 'good'], ['needalu', 'hathiradha', 'good', 'places'], ['hathiradha', 'good', 'places', 'yavuvu'], ['good', 'places', 'yavuvu', 'e'], ['places', 'yavuvu', 'e', 's'], ['yavuvu', 'e', 's', 'hathiradha'], ['e', 's', 'hathiradha', 'park'], ['s', 'hathiradha', 'park', 'yaavaaga'], ['hathiradha', 'park', 'yaavaaga', 'thereyuthadhe'], ['park', 'yaavaaga', 'thereyuthadhe', 'e'], ['yaavaaga', 'thereyuthadhe', 'e', 's'], ['thereyuthadhe', 'e', 's', 'when'], ['e', 's', 'when', 'does'], ['s', 'when', 'does', 'the'], ['when', 'does', 'the', 'nearest'], ['does', 'the', 'nearest', 'udhyaana'], ['the', 'nearest', 'udhyaana', 'open'], ['nearest', 'udhyaana', 'open', 'e'], ['udhyaana', 'open', 'e', 's'], ['open', 'e', 's', 'hathiradha'], ['e', 's', 'hathiradha', 'udhyaanavu'], ['s', 'hathiradha', 'udhyaanavu', 'yaavaaga'], ['hathiradha', 'udhyaanavu', 'yaavaaga', 'open'], ['udhyaanavu', 'yaavaaga', 'open', 'aagothe'], ['yaavaaga', 'open', 'aagothe', 'e'], ['open', 'aagothe', 'e', 's'], ['aagothe', 'e', 's', 'nanna'], ['e', 's', 'nanna', 'hathira'], ['s', 'nanna', 'hathira', 'iro'], ['nanna', 'hathira', 'iro', 'plumbing'], ['hathira', 'iro', 'plumbing', 'service'], ['iro', 'plumbing', 'service', 'e'], ['plumbing', 'service', 'e', 's'], ['service', 'e', 's', 'hathira'], ['e', 's', 'hathira', 'iro'], ['s', 'hathira', 'iro', 'kolaayi'], ['hathira', 'iro', 'kolaayi', 'service'], ['iro', 'kolaayi', 'service', 'e'], ['kolaayi', 'service', 'e', 's'], ['service', 'e', 's', 'hathira'], ['e', 's', 'hathira', 'iro'], ['s', 'hathira', 'iro', 'plumbing'], ['hathira', 'iro', 'plumbing', 'service'], ['iro', 'plumbing', 'service', 'e'], ['plumbing', 'service', 'e', 's'], ['service', 'e', 's', 'hathiradha'], ['e', 's', 'hathiradha', 'job'], ['s', 'hathiradha', 'job', 'openings'], ['hathiradha', 'job', 'openings', 'e'], ['job', 'openings', 'e', 's'], ['openings', 'e', 's', 'udhyogavakaasha'], ['e', 's', 'udhyogavakaasha', 'near'], ['s', 'udhyogavakaasha', 'near', 'me'], ['udhyogavakaasha', 'near', 'me', 'e'], ['near', 'me', 'e', 's'], ['me', 'e', 's', 'kelasa'], ['e', 's', 'kelasa', 'openings'], ['s', 'kelasa', 'openings', 'near'], ['kelasa', 'openings', 'near', 'me'], ['openings', 'near', 'me', 'e']]\n"
     ]
    }
   ],
   "source": [
    "train_len = 4\n",
    "text_sequences = []\n",
    "for i in range(train_len,len(tokens)+1):\n",
    "  seq = tokens[i-train_len:i]\n",
    "  text_sequences.append(seq)\n",
    "print(text_sequences)"
   ]
  },
  {
   "cell_type": "code",
   "execution_count": 4,
   "metadata": {},
   "outputs": [
    {
     "name": "stdout",
     "output_type": "stream",
     "text": [
      "[['s', 'nanna', 'next', 'turn'], ['nanna', 'next', 'turn', 'yenu'], ['next', 'turn', 'yenu', 'e'], ['s', 'what', 'is', 'my'], ['what', 'is', 'my', 'next'], ['is', 'my', 'next', 'saradi'], ['my', 'next', 'saradi', 'e'], ['s', 'what', 'is', 'my'], ['what', 'is', 'my', 'mundina'], ['is', 'my', 'mundina', 'saradi'], ['my', 'mundina', 'saradi', 'e'], ['s', 'how', 'is', 'the'], ['how', 'is', 'the', 'datthane'], ['is', 'the', 'datthane', 'ahead'], ['the', 'datthane', 'ahead', 'e'], ['s', 'munde', 'traffic', 'hegidhe'], ['munde', 'traffic', 'hegidhe', 'e'], ['s', 'how', 'is', 'the'], ['how', 'is', 'the', 'datthane'], ['is', 'the', 'datthane', 'munde'], ['the', 'datthane', 'munde', 'e'], ['s', 'what', 'are', 'the'], ['what', 'are', 'the', 'nearby'], ['are', 'the', 'nearby', 'anila'], ['the', 'nearby', 'anila', 'stations'], ['nearby', 'anila', 'stations', 'e'], ['s', 'what', 'are', 'the'], ['what', 'are', 'the', 'nearby'], ['are', 'the', 'nearby', 'gas'], ['the', 'nearby', 'gas', 'kendragalu'], ['nearby', 'gas', 'kendragalu', 'e'], ['s', 'what', 'are', 'the'], ['what', 'are', 'the', 'nearby'], ['are', 'the', 'nearby', 'anila'], ['the', 'nearby', 'anila', 'kendragalu'], ['nearby', 'anila', 'kendragalu', 'e'], ['s', 'hathira', 'gas', 'stations'], ['hathira', 'gas', 'stations', 'yavdu'], ['gas', 'stations', 'yavdu', 'e'], ['s', 'hathira', 'gas', 'kendragalu'], ['hathira', 'gas', 'kendragalu', 'yavdu'], ['gas', 'kendragalu', 'yavdu', 'e'], ['s', 'hathira', 'anila', 'stations'], ['hathira', 'anila', 'stations', 'yavdu'], ['anila', 'stations', 'yavdu', 'e'], ['s', 'are', 'there', 'any'], ['are', 'there', 'any', 'kredaa'], ['there', 'any', 'kredaa', 'mydana'], ['any', 'kredaa', 'mydana', 'near'], ['kredaa', 'mydana', 'near', 'me'], ['mydana', 'near', 'me', 'e'], ['s', 'nanna', 'hathira', 'yavude'], ['nanna', 'hathira', 'yavude', 'sports'], ['hathira', 'yavude', 'sports', 'ground'], ['yavude', 'sports', 'ground', 'idhya'], ['sports', 'ground', 'idhya', 'e'], ['s', 'are', 'there', 'any'], ['are', 'there', 'any', 'sports'], ['there', 'any', 'sports', 'mydana'], ['any', 'sports', 'mydana', 'near'], ['sports', 'mydana', 'near', 'me'], ['mydana', 'near', 'me', 'e'], ['s', 'are', 'there', 'any'], ['are', 'there', 'any', 'kredaa'], ['there', 'any', 'kredaa', 'grounds'], ['any', 'kredaa', 'grounds', 'near'], ['kredaa', 'grounds', 'near', 'me'], ['grounds', 'near', 'me', 'e'], ['s', 'what', 'are', 'some'], ['what', 'are', 'some', 'good'], ['are', 'some', 'good', 'nearby'], ['some', 'good', 'nearby', 'stalagalu'], ['good', 'nearby', 'stalagalu', 'to'], ['nearby', 'stalagalu', 'to', 'visit'], ['stalagalu', 'to', 'visit', 'e'], ['s', 'what', 'are', 'some'], ['what', 'are', 'some', 'uttama'], ['are', 'some', 'uttama', 'hathiradha'], ['some', 'uttama', 'hathiradha', 'places'], ['uttama', 'hathiradha', 'places', 'to'], ['hathiradha', 'places', 'to', 'visit'], ['places', 'to', 'visit', 'e'], ['s', 'what', 'are', 'some'], ['what', 'are', 'some', 'uttama'], ['are', 'some', 'uttama', 'hathiradha'], ['some', 'uttama', 'hathiradha', 'stalagalu'], ['uttama', 'hathiradha', 'stalagalu', 'to'], ['hathiradha', 'stalagalu', 'to', 'visit'], ['stalagalu', 'to', 'visit', 'e'], ['s', 'bheti', 'needalu', 'hathiradha'], ['bheti', 'needalu', 'hathiradha', 'good'], ['needalu', 'hathiradha', 'good', 'places'], ['hathiradha', 'good', 'places', 'yavuvu'], ['good', 'places', 'yavuvu', 'e'], ['s', 'hathiradha', 'park', 'yaavaaga'], ['hathiradha', 'park', 'yaavaaga', 'thereyuthadhe'], ['park', 'yaavaaga', 'thereyuthadhe', 'e'], ['s', 'when', 'does', 'the'], ['when', 'does', 'the', 'nearest'], ['does', 'the', 'nearest', 'udhyaana'], ['the', 'nearest', 'udhyaana', 'open'], ['nearest', 'udhyaana', 'open', 'e'], ['s', 'hathiradha', 'udhyaanavu', 'yaavaaga'], ['hathiradha', 'udhyaanavu', 'yaavaaga', 'open'], ['udhyaanavu', 'yaavaaga', 'open', 'aagothe'], ['yaavaaga', 'open', 'aagothe', 'e'], ['s', 'nanna', 'hathira', 'iro'], ['nanna', 'hathira', 'iro', 'plumbing'], ['hathira', 'iro', 'plumbing', 'service'], ['iro', 'plumbing', 'service', 'e'], ['s', 'hathira', 'iro', 'kolaayi'], ['hathira', 'iro', 'kolaayi', 'service'], ['iro', 'kolaayi', 'service', 'e'], ['s', 'hathira', 'iro', 'plumbing'], ['hathira', 'iro', 'plumbing', 'service'], ['iro', 'plumbing', 'service', 'e'], ['s', 'hathiradha', 'job', 'openings'], ['hathiradha', 'job', 'openings', 'e'], ['s', 'udhyogavakaasha', 'near', 'me'], ['udhyogavakaasha', 'near', 'me', 'e'], ['s', 'kelasa', 'openings', 'near'], ['kelasa', 'openings', 'near', 'me'], ['openings', 'near', 'me', 'e']]\n"
     ]
    }
   ],
   "source": [
    "text_sequence_1 = []\n",
    "for i in text_sequences:\n",
    "    if \"s\" in i:\n",
    "        if i[0] != \"s\":\n",
    "            continue\n",
    "    if \"e\" in i:\n",
    "        if i[-1] != \"e\":\n",
    "            continue\n",
    "\n",
    "    text_sequence_1.append(i)\n",
    "\n",
    "print(text_sequence_1)\n",
    "text_sequences = copy.deepcopy(text_sequence_1)"
   ]
  },
  {
   "cell_type": "code",
   "execution_count": 5,
   "metadata": {},
   "outputs": [
    {
     "name": "stdout",
     "output_type": "stream",
     "text": [
      "{'s': 1, 'nanna': 2, 'next': 3, 'turn': 4, 'yenu': 5, 'e': 6, 'what': 7, 'is': 8, 'my': 9, 'saradi': 10, 'mundina': 11, 'how': 12, 'the': 13, 'datthane': 14, 'ahead': 15, 'munde': 16, 'traffic': 17, 'hegidhe': 18, 'are': 19, 'nearby': 20, 'anila': 21, 'stations': 22, 'gas': 23, 'kendragalu': 24, 'hathira': 25, 'yavdu': 26, 'there': 27, 'any': 28, 'kredaa': 29, 'mydana': 30, 'near': 31, 'me': 32, 'yavude': 33, 'sports': 34, 'ground': 35, 'idhya': 36, 'grounds': 37, 'some': 38, 'good': 39, 'stalagalu': 40, 'to': 41, 'visit': 42, 'uttama': 43, 'hathiradha': 44, 'places': 45, 'bheti': 46, 'needalu': 47, 'yavuvu': 48, 'park': 49, 'yaavaaga': 50, 'thereyuthadhe': 51, 'when': 52, 'does': 53, 'nearest': 54, 'udhyaana': 55, 'open': 56, 'udhyaanavu': 57, 'aagothe': 58, 'iro': 59, 'plumbing': 60, 'service': 61, 'kolaayi': 62, 'job': 63, 'openings': 64, 'udhyogavakaasha': 65, 'kelasa': 66}\n"
     ]
    }
   ],
   "source": [
    "sequences = {}\n",
    "count = 1\n",
    "for i in range(len(tokens)):\n",
    "  if tokens[i] not in sequences:\n",
    "    sequences[tokens[i]] = count\n",
    "    count += 1\n",
    "print(sequences)"
   ]
  },
  {
   "cell_type": "code",
   "execution_count": 6,
   "metadata": {},
   "outputs": [
    {
     "name": "stdout",
     "output_type": "stream",
     "text": [
      "123\n",
      "[[1, 30, 31, 45], [30, 31, 45, 54], [31, 45, 54, 2], [1, 6, 10, 19], [6, 10, 19, 31], [10, 19, 31, 39], [19, 31, 39, 2], [1, 6, 10, 19], [6, 10, 19, 46], [10, 19, 46, 39], [19, 46, 39, 2], [1, 40, 10, 3], [40, 10, 3, 32], [10, 3, 32, 55], [3, 32, 55, 2], [1, 41, 56, 57], [41, 56, 57, 2], [1, 40, 10, 3], [40, 10, 3, 32], [10, 3, 32, 41], [3, 32, 41, 2], [1, 6, 4, 3], [6, 4, 3, 7], [4, 3, 7, 15], [3, 7, 15, 20], [7, 15, 20, 2], [1, 6, 4, 3], [6, 4, 3, 7], [4, 3, 7, 16], [3, 7, 16, 27], [7, 16, 27, 2], [1, 6, 4, 3], [6, 4, 3, 7], [4, 3, 7, 15], [3, 7, 15, 27], [7, 15, 27, 2], [1, 8, 16, 20], [8, 16, 20, 33], [16, 20, 33, 2], [1, 8, 16, 27], [8, 16, 27, 33], [16, 27, 33, 2], [1, 8, 15, 20], [8, 15, 20, 33], [15, 20, 33, 2], [1, 4, 17, 11], [4, 17, 11, 21], [17, 11, 21, 22], [11, 21, 22, 9], [21, 22, 9, 13], [22, 9, 13, 2], [1, 30, 8, 42], [30, 8, 42, 23], [8, 42, 23, 47], [42, 23, 47, 58], [23, 47, 58, 2], [1, 4, 17, 11], [4, 17, 11, 23], [17, 11, 23, 22], [11, 23, 22, 9], [23, 22, 9, 13], [22, 9, 13, 2], [1, 4, 17, 11], [4, 17, 11, 21], [17, 11, 21, 43], [11, 21, 43, 9], [21, 43, 9, 13], [43, 9, 13, 2], [1, 6, 4, 12], [6, 4, 12, 24], [4, 12, 24, 7], [12, 24, 7, 25], [24, 7, 25, 18], [7, 25, 18, 34], [25, 18, 34, 2], [1, 6, 4, 12], [6, 4, 12, 26], [4, 12, 26, 5], [12, 26, 5, 28], [26, 5, 28, 18], [5, 28, 18, 34], [28, 18, 34, 2], [1, 6, 4, 12], [6, 4, 12, 26], [4, 12, 26, 5], [12, 26, 5, 25], [26, 5, 25, 18], [5, 25, 18, 34], [25, 18, 34, 2], [1, 59, 48, 5], [59, 48, 5, 24], [48, 5, 24, 28], [5, 24, 28, 60], [24, 28, 60, 2], [1, 5, 49, 29], [5, 49, 29, 61], [49, 29, 61, 2], [1, 62, 50, 3], [62, 50, 3, 44], [50, 3, 44, 51], [3, 44, 51, 37], [44, 51, 37, 2], [1, 5, 52, 29], [5, 52, 29, 37], [52, 29, 37, 63], [29, 37, 63, 2], [1, 30, 8, 14], [30, 8, 14, 35], [8, 14, 35, 36], [14, 35, 36, 2], [1, 8, 14, 53], [8, 14, 53, 36], [14, 53, 36, 2], [1, 8, 14, 35], [8, 14, 35, 36], [14, 35, 36, 2], [1, 5, 64, 38], [5, 64, 38, 2], [1, 65, 9, 13], [65, 9, 13, 2], [1, 66, 38, 9], [66, 38, 9, 13], [38, 9, 13, 2]]\n"
     ]
    }
   ],
   "source": [
    "tokenizer = Tokenizer()\n",
    "tokenizer.fit_on_texts(text_sequences)\n",
    "sequences = tokenizer.texts_to_sequences(text_sequences)\n",
    "print(len(text_sequences))\n",
    "print(sequences)"
   ]
  },
  {
   "cell_type": "code",
   "execution_count": 7,
   "metadata": {},
   "outputs": [
    {
     "name": "stdout",
     "output_type": "stream",
     "text": [
      "[[          0           0           0           0]\n",
      " [          0           0           0           0]\n",
      " [          0           0           0           0]\n",
      " [          0           0           0           0]\n",
      " [          0           0           0           0]\n",
      " [          0           0           0           0]\n",
      " [          0           0           0           0]\n",
      " [          0           0           0           0]\n",
      " [          0           0           0           0]\n",
      " [          0           0           0           0]\n",
      " [          0           0           0           0]\n",
      " [          0           0           0           0]\n",
      " [          0           0           0           0]\n",
      " [          0           0           0           0]\n",
      " [          0           0           0           0]\n",
      " [          0           0           0           0]\n",
      " [          0           0           0           0]\n",
      " [          0           0           0           0]\n",
      " [          0           0           0           0]\n",
      " [          0           0           0           0]\n",
      " [          0           0           0           0]\n",
      " [          0           0           0           0]\n",
      " [          0           0           0           0]\n",
      " [          0           0           0           0]\n",
      " [          0           0           0           0]\n",
      " [          0           0           0           0]\n",
      " [          0           0           0           0]\n",
      " [          0           0           0           0]\n",
      " [          0           0           0           0]\n",
      " [          0           0           0           0]\n",
      " [          0           0           0           0]\n",
      " [          0           0           0           0]\n",
      " [          0           0           0           0]\n",
      " [          0           0           0           0]\n",
      " [          0           0           0           0]\n",
      " [          0           0           0           0]\n",
      " [          0           0           0           0]\n",
      " [          0           0           0           0]\n",
      " [          0           0  1901812505 -2147476992]\n",
      " [          0           0           0           0]\n",
      " [          0           0           0           0]\n",
      " [          0           0           0           0]\n",
      " [          0           0           0           0]\n",
      " [          0           0           0           0]\n",
      " [          0           0           0           0]\n",
      " [          0           0           0           0]\n",
      " [          0           0           0           0]\n",
      " [          0           0           0           0]\n",
      " [          0           0           0           0]\n",
      " [          0           0           0           0]\n",
      " [          0           0           0           0]\n",
      " [          0           0           0           0]\n",
      " [          0           0           0           0]\n",
      " [          0           0           0           0]\n",
      " [          0           0           0           0]\n",
      " [          0           0           0           0]\n",
      " [          0           0           0           0]\n",
      " [          0           0           0           0]\n",
      " [          0           0           0           0]\n",
      " [          0           0           0           0]\n",
      " [          0           0           0           0]\n",
      " [          0           0           0           0]\n",
      " [          0           0           0           0]\n",
      " [          0           0           0           0]\n",
      " [          0           0           0           0]\n",
      " [          0           0           0           0]\n",
      " [          0           0           0           0]\n",
      " [          0           0           0           0]\n",
      " [          0           0           0           0]\n",
      " [          0           0           0           0]\n",
      " [          0           0           0           0]\n",
      " [          0           0           0           0]\n",
      " [          0           0           0           0]\n",
      " [          0           0           0           0]\n",
      " [          0           0           0           0]\n",
      " [          0           0           0           0]\n",
      " [          0           0           0           0]\n",
      " [          0           0           0           0]\n",
      " [          0           0           0           0]\n",
      " [          0           0           0           0]\n",
      " [          0           0           0           0]\n",
      " [          0           0           0           0]\n",
      " [          0           0           0           0]\n",
      " [          0           0           0           0]\n",
      " [          0           0           0           0]\n",
      " [          0           0           0           0]\n",
      " [          0           0           0           0]\n",
      " [          0           0           0           0]\n",
      " [          0           0           0           0]\n",
      " [          0           0           0           0]\n",
      " [          0           0           0           0]\n",
      " [          0           0           0           0]\n",
      " [          0           0           0           0]\n",
      " [          0           0           0           0]\n",
      " [          0           0           0           0]\n",
      " [          0           0           0           0]\n",
      " [          0           0           0           0]\n",
      " [          0           0           0           0]\n",
      " [          0           0           0           0]\n",
      " [          0           0           0           0]\n",
      " [          0           0           0           0]\n",
      " [          0           0           0           0]\n",
      " [          0           0  1897618137 -2147476736]\n",
      " [          0           0           0           0]\n",
      " [          0           0           0           0]\n",
      " [          0           0           0           0]\n",
      " [          0           0           0           0]\n",
      " [          0           0           0           0]\n",
      " [          0           0           0           0]\n",
      " [          0           0           0           0]\n",
      " [          0           0           0           0]\n",
      " [          0           0           0           0]\n",
      " [          0           0           0           0]\n",
      " [          0           0           0           0]\n",
      " [          0           0           0           0]\n",
      " [          0           0           0           0]\n",
      " [          0           0           0           0]\n",
      " [          0           0           0           0]\n",
      " [          0           0           0           0]\n",
      " [          0           0           0           0]\n",
      " [          0           0           0           0]\n",
      " [          0           0           0           0]\n",
      " [          0           0           0           0]]\n"
     ]
    }
   ],
   "source": [
    "vocabulary_size = len(tokenizer.word_counts)+1\n",
    "n_sequences = np.empty([len(sequences),train_len], dtype='int32')\n",
    "print(n_sequences)"
   ]
  },
  {
   "cell_type": "code",
   "execution_count": 8,
   "metadata": {},
   "outputs": [
    {
     "name": "stdout",
     "output_type": "stream",
     "text": [
      "[[ 1 30 31 45]\n",
      " [30 31 45 54]\n",
      " [31 45 54  2]\n",
      " [ 1  6 10 19]\n",
      " [ 6 10 19 31]\n",
      " [10 19 31 39]\n",
      " [19 31 39  2]\n",
      " [ 1  6 10 19]\n",
      " [ 6 10 19 46]\n",
      " [10 19 46 39]\n",
      " [19 46 39  2]\n",
      " [ 1 40 10  3]\n",
      " [40 10  3 32]\n",
      " [10  3 32 55]\n",
      " [ 3 32 55  2]\n",
      " [ 1 41 56 57]\n",
      " [41 56 57  2]\n",
      " [ 1 40 10  3]\n",
      " [40 10  3 32]\n",
      " [10  3 32 41]\n",
      " [ 3 32 41  2]\n",
      " [ 1  6  4  3]\n",
      " [ 6  4  3  7]\n",
      " [ 4  3  7 15]\n",
      " [ 3  7 15 20]\n",
      " [ 7 15 20  2]\n",
      " [ 1  6  4  3]\n",
      " [ 6  4  3  7]\n",
      " [ 4  3  7 16]\n",
      " [ 3  7 16 27]\n",
      " [ 7 16 27  2]\n",
      " [ 1  6  4  3]\n",
      " [ 6  4  3  7]\n",
      " [ 4  3  7 15]\n",
      " [ 3  7 15 27]\n",
      " [ 7 15 27  2]\n",
      " [ 1  8 16 20]\n",
      " [ 8 16 20 33]\n",
      " [16 20 33  2]\n",
      " [ 1  8 16 27]\n",
      " [ 8 16 27 33]\n",
      " [16 27 33  2]\n",
      " [ 1  8 15 20]\n",
      " [ 8 15 20 33]\n",
      " [15 20 33  2]\n",
      " [ 1  4 17 11]\n",
      " [ 4 17 11 21]\n",
      " [17 11 21 22]\n",
      " [11 21 22  9]\n",
      " [21 22  9 13]\n",
      " [22  9 13  2]\n",
      " [ 1 30  8 42]\n",
      " [30  8 42 23]\n",
      " [ 8 42 23 47]\n",
      " [42 23 47 58]\n",
      " [23 47 58  2]\n",
      " [ 1  4 17 11]\n",
      " [ 4 17 11 23]\n",
      " [17 11 23 22]\n",
      " [11 23 22  9]\n",
      " [23 22  9 13]\n",
      " [22  9 13  2]\n",
      " [ 1  4 17 11]\n",
      " [ 4 17 11 21]\n",
      " [17 11 21 43]\n",
      " [11 21 43  9]\n",
      " [21 43  9 13]\n",
      " [43  9 13  2]\n",
      " [ 1  6  4 12]\n",
      " [ 6  4 12 24]\n",
      " [ 4 12 24  7]\n",
      " [12 24  7 25]\n",
      " [24  7 25 18]\n",
      " [ 7 25 18 34]\n",
      " [25 18 34  2]\n",
      " [ 1  6  4 12]\n",
      " [ 6  4 12 26]\n",
      " [ 4 12 26  5]\n",
      " [12 26  5 28]\n",
      " [26  5 28 18]\n",
      " [ 5 28 18 34]\n",
      " [28 18 34  2]\n",
      " [ 1  6  4 12]\n",
      " [ 6  4 12 26]\n",
      " [ 4 12 26  5]\n",
      " [12 26  5 25]\n",
      " [26  5 25 18]\n",
      " [ 5 25 18 34]\n",
      " [25 18 34  2]\n",
      " [ 1 59 48  5]\n",
      " [59 48  5 24]\n",
      " [48  5 24 28]\n",
      " [ 5 24 28 60]\n",
      " [24 28 60  2]\n",
      " [ 1  5 49 29]\n",
      " [ 5 49 29 61]\n",
      " [49 29 61  2]\n",
      " [ 1 62 50  3]\n",
      " [62 50  3 44]\n",
      " [50  3 44 51]\n",
      " [ 3 44 51 37]\n",
      " [44 51 37  2]\n",
      " [ 1  5 52 29]\n",
      " [ 5 52 29 37]\n",
      " [52 29 37 63]\n",
      " [29 37 63  2]\n",
      " [ 1 30  8 14]\n",
      " [30  8 14 35]\n",
      " [ 8 14 35 36]\n",
      " [14 35 36  2]\n",
      " [ 1  8 14 53]\n",
      " [ 8 14 53 36]\n",
      " [14 53 36  2]\n",
      " [ 1  8 14 35]\n",
      " [ 8 14 35 36]\n",
      " [14 35 36  2]\n",
      " [ 1  5 64 38]\n",
      " [ 5 64 38  2]\n",
      " [ 1 65  9 13]\n",
      " [65  9 13  2]\n",
      " [ 1 66 38  9]\n",
      " [66 38  9 13]\n",
      " [38  9 13  2]]\n"
     ]
    }
   ],
   "source": [
    "for i in range(len(sequences)):\n",
    "  n_sequences[i] = sequences[i]\n",
    "print(n_sequences)"
   ]
  },
  {
   "cell_type": "code",
   "execution_count": 9,
   "metadata": {},
   "outputs": [],
   "source": [
    "train_inputs = n_sequences[:,:-1]\n",
    "train_targets = n_sequences[:,-1]"
   ]
  },
  {
   "cell_type": "code",
   "execution_count": 10,
   "metadata": {},
   "outputs": [
    {
     "name": "stdout",
     "output_type": "stream",
     "text": [
      "3\n"
     ]
    }
   ],
   "source": [
    "train_targets = to_categorical(train_targets, num_classes=vocabulary_size)\n",
    "seq_len = train_inputs.shape[1]\n",
    "print(seq_len)"
   ]
  },
  {
   "cell_type": "code",
   "execution_count": 11,
   "metadata": {},
   "outputs": [
    {
     "name": "stdout",
     "output_type": "stream",
     "text": [
      "Model: \"sequential\"\n",
      "_________________________________________________________________\n",
      "Layer (type)                 Output Shape              Param #   \n",
      "=================================================================\n",
      "embedding (Embedding)        (None, 3, 3)              201       \n",
      "_________________________________________________________________\n",
      "lstm (LSTM)                  (None, 3, 50)             10800     \n",
      "_________________________________________________________________\n",
      "lstm_1 (LSTM)                (None, 50)                20200     \n",
      "_________________________________________________________________\n",
      "dense (Dense)                (None, 50)                2550      \n",
      "_________________________________________________________________\n",
      "dense_1 (Dense)              (None, 67)                3417      \n",
      "=================================================================\n",
      "Total params: 37,168\n",
      "Trainable params: 37,168\n",
      "Non-trainable params: 0\n",
      "_________________________________________________________________\n",
      "None\n"
     ]
    }
   ],
   "source": [
    "from keras.models import Sequential\n",
    "from keras.layers import Dense\n",
    "from keras.layers import LSTM\n",
    "from keras.layers import Embedding\n",
    "model = Sequential()\n",
    "model.add(Embedding(vocabulary_size, seq_len, input_length=seq_len))\n",
    "model.add(LSTM(50,return_sequences=True))\n",
    "model.add(LSTM(50))\n",
    "model.add(Dense(50,activation='relu'))\n",
    "model.add(Dense(vocabulary_size, activation='softmax'))\n",
    "print(model.summary())\n"
   ]
  },
  {
   "cell_type": "code",
   "execution_count": 15,
   "metadata": {},
   "outputs": [
    {
     "name": "stdout",
     "output_type": "stream",
     "text": [
      "s what are some good\n",
      "[1, 6, 4, 12, 24] [[ 4 12 24]]\n",
      "Next word suggestion: kredaa\n",
      "Next word suggestion: good\n",
      "Next word suggestion: to\n",
      "Next word suggestion: some\n",
      "Next word suggestion: any\n",
      "Next word suggestion: hathira\n",
      "Next word suggestion: kolaayi\n",
      "Next word suggestion: sports\n",
      "Next word suggestion: plumbing\n",
      "Next word suggestion: iro\n"
     ]
    }
   ],
   "source": [
    "from keras.preprocessing.sequence import pad_sequences\n",
    "input_text = input().strip().lower()\n",
    "encoded_text = tokenizer.texts_to_sequences([input_text])[0]\n",
    "pad_encoded = pad_sequences([encoded_text], maxlen=seq_len, truncating='pre')\n",
    "print(encoded_text, pad_encoded)\n",
    "for i in (model.predict(pad_encoded)[0]).argsort()[-10:][::-1]:\n",
    "  pred_word = tokenizer.index_word[i]\n",
    "  print(\"Next word suggestion:\",pred_word)"
   ]
  },
  {
   "cell_type": "code",
   "execution_count": null,
   "metadata": {},
   "outputs": [],
   "source": [
    "print(tokenizer)"
   ]
  },
  {
   "cell_type": "code",
   "execution_count": 15,
   "metadata": {},
   "outputs": [],
   "source": [
    "import pickle\n",
    " \n",
    "#config_dictionary = {'remote_hostname': 'google.com', 'remote_port': 80}\n",
    " \n",
    "# Step 2\n",
    "with open('modelThree/tokenizerThree.tokenizer', 'rb') as config_dictionary_file:\n",
    " \n",
    "  # Step 3\n",
    "  tokenizerTwo=pickle.load(config_dictionary_file)"
   ]
  },
  {
   "cell_type": "code",
   "execution_count": 16,
   "metadata": {},
   "outputs": [
    {
     "name": "stdout",
     "output_type": "stream",
     "text": [
      "3\n"
     ]
    }
   ],
   "source": [
    "print(seq_len)"
   ]
  },
  {
   "cell_type": "code",
   "execution_count": 17,
   "metadata": {},
   "outputs": [],
   "source": [
    "from keras.models import load_model\n",
    "modelTwo=load_model('modelThree/modelThree.h5')"
   ]
  },
  {
   "cell_type": "code",
   "execution_count": 14,
   "metadata": {},
   "outputs": [
    {
     "name": "stdout",
     "output_type": "stream",
     "text": [
      "s what are some good \n"
     ]
    },
    {
     "ename": "NameError",
     "evalue": "name 'tokenizerTwo' is not defined",
     "output_type": "error",
     "traceback": [
      "\u001b[1;31m---------------------------------------------------------------------------\u001b[0m",
      "\u001b[1;31mNameError\u001b[0m                                 Traceback (most recent call last)",
      "\u001b[1;32m<ipython-input-14-e098db0e2cf2>\u001b[0m in \u001b[0;36m<module>\u001b[1;34m\u001b[0m\n\u001b[0;32m      1\u001b[0m \u001b[1;32mfrom\u001b[0m \u001b[0mkeras\u001b[0m\u001b[1;33m.\u001b[0m\u001b[0mpreprocessing\u001b[0m\u001b[1;33m.\u001b[0m\u001b[0msequence\u001b[0m \u001b[1;32mimport\u001b[0m \u001b[0mpad_sequences\u001b[0m\u001b[1;33m\u001b[0m\u001b[1;33m\u001b[0m\u001b[0m\n\u001b[0;32m      2\u001b[0m \u001b[0minput_text\u001b[0m \u001b[1;33m=\u001b[0m \u001b[0minput\u001b[0m\u001b[1;33m(\u001b[0m\u001b[1;33m)\u001b[0m\u001b[1;33m.\u001b[0m\u001b[0mstrip\u001b[0m\u001b[1;33m(\u001b[0m\u001b[1;33m)\u001b[0m\u001b[1;33m.\u001b[0m\u001b[0mlower\u001b[0m\u001b[1;33m(\u001b[0m\u001b[1;33m)\u001b[0m\u001b[1;33m\u001b[0m\u001b[1;33m\u001b[0m\u001b[0m\n\u001b[1;32m----> 3\u001b[1;33m \u001b[0mencoded_text\u001b[0m \u001b[1;33m=\u001b[0m \u001b[0mtokenizerTwo\u001b[0m\u001b[1;33m.\u001b[0m\u001b[0mtexts_to_sequences\u001b[0m\u001b[1;33m(\u001b[0m\u001b[1;33m[\u001b[0m\u001b[0minput_text\u001b[0m\u001b[1;33m]\u001b[0m\u001b[1;33m)\u001b[0m\u001b[1;33m[\u001b[0m\u001b[1;36m0\u001b[0m\u001b[1;33m]\u001b[0m\u001b[1;33m\u001b[0m\u001b[1;33m\u001b[0m\u001b[0m\n\u001b[0m\u001b[0;32m      4\u001b[0m \u001b[0mpad_encoded\u001b[0m \u001b[1;33m=\u001b[0m \u001b[0mpad_sequences\u001b[0m\u001b[1;33m(\u001b[0m\u001b[1;33m[\u001b[0m\u001b[0mencoded_text\u001b[0m\u001b[1;33m]\u001b[0m\u001b[1;33m,\u001b[0m \u001b[0mmaxlen\u001b[0m\u001b[1;33m=\u001b[0m\u001b[1;36m2\u001b[0m\u001b[1;33m,\u001b[0m \u001b[0mtruncating\u001b[0m\u001b[1;33m=\u001b[0m\u001b[1;34m'pre'\u001b[0m\u001b[1;33m)\u001b[0m\u001b[1;33m\u001b[0m\u001b[1;33m\u001b[0m\u001b[0m\n\u001b[0;32m      5\u001b[0m \u001b[0mprint\u001b[0m\u001b[1;33m(\u001b[0m\u001b[0mencoded_text\u001b[0m\u001b[1;33m,\u001b[0m \u001b[0mpad_encoded\u001b[0m\u001b[1;33m)\u001b[0m\u001b[1;33m\u001b[0m\u001b[1;33m\u001b[0m\u001b[0m\n",
      "\u001b[1;31mNameError\u001b[0m: name 'tokenizerTwo' is not defined"
     ]
    }
   ],
   "source": [
    "from keras.preprocessing.sequence import pad_sequences\n",
    "input_text = input().strip().lower()\n",
    "encoded_text = tokenizerTwo.texts_to_sequences([input_text])[0]\n",
    "pad_encoded = pad_sequences([encoded_text], maxlen=2, truncating='pre')\n",
    "print(encoded_text, pad_encoded)\n",
    "for i in (modelTwo.predict(pad_encoded)[0]).argsort()[-10:][::-1]:\n",
    "  pred_word = tokenizerTwo.index_word[i]\n",
    "  print(\"Next word suggestion:\",pred_word)"
   ]
  },
  {
   "cell_type": "code",
   "execution_count": null,
   "metadata": {},
   "outputs": [],
   "source": []
  }
 ],
 "metadata": {
  "kernelspec": {
   "display_name": "Python 3",
   "language": "python",
   "name": "python3"
  },
  "language_info": {
   "codemirror_mode": {
    "name": "ipython",
    "version": 3
   },
   "file_extension": ".py",
   "mimetype": "text/x-python",
   "name": "python",
   "nbconvert_exporter": "python",
   "pygments_lexer": "ipython3",
   "version": "3.7.6"
  }
 },
 "nbformat": 4,
 "nbformat_minor": 4
}
